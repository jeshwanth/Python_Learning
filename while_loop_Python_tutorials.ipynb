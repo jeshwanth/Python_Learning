{
 "cells": [
  {
   "cell_type": "code",
   "execution_count": 5,
   "metadata": {
    "collapsed": false
   },
   "outputs": [
    {
     "name": "stdout",
     "output_type": "stream",
     "text": [
      "Enter a number: 3\n",
      "Enter a number: 4\n",
      "Enter a number: \n",
      "Sum of total values are:  7\n"
     ]
    }
   ],
   "source": [
    "def main():\n",
    "    total=0\n",
    "    number=input('Enter a number: ')\n",
    "    while number != '':\n",
    "        total += int(number)\n",
    "        number=input('Enter a number: ')\n",
    "    print('Sum of total values are: ',total)\n",
    "    \n",
    "if __name__=='__main__':\n",
    "    main()"
   ]
  },
  {
   "cell_type": "code",
   "execution_count": 3,
   "metadata": {
    "collapsed": false
   },
   "outputs": [
    {
     "name": "stdout",
     "output_type": "stream",
     "text": [
      "Enter the number of rows: 3\n",
      "*\n",
      "**\n",
      "***\n"
     ]
    }
   ],
   "source": [
    "def triangle():\n",
    "    n=int(input('Enter the number of rows: '))\n",
    "    for i in range(1, n+1):\n",
    "        print('*'* i)\n",
    "triangle()"
   ]
  },
  {
   "cell_type": "code",
   "execution_count": 13,
   "metadata": {
    "collapsed": false
   },
   "outputs": [
    {
     "name": "stdout",
     "output_type": "stream",
     "text": [
      "Enter the number of rows: 1\n",
      "*\n"
     ]
    }
   ],
   "source": [
    "def triangle(nrows):\n",
    "    for i in range(1, nrows + 1):\n",
    "        print('*' *i)\n",
    "\n",
    "def inverted_traingle(nrows):\n",
    "    nspaces=0\n",
    "    nstars=2 * nrows - 1\n",
    "    for i in range(1, nrows + 1):\n",
    "        print('' * nspaces + '*' * nstars)\n",
    "        nstars -= 2\n",
    "        nspaces += 1\n",
    "def main():\n",
    "    nrows=int(input('Enter the number of rows: '))\n",
    "    assert nrows==1 or nrows==2\n",
    "    if nrows==1:\n",
    "        triangle(nrows)\n",
    "    elif nrows==2:\n",
    "        inverted_traingle(nrows)\n",
    "if __name__=='__main__':\n",
    "    main()\n",
    "    "
   ]
  },
  {
   "cell_type": "code",
   "execution_count": 18,
   "metadata": {
    "collapsed": false
   },
   "outputs": [
    {
     "name": "stdout",
     "output_type": "stream",
     "text": [
      "    9   18   27"
     ]
    }
   ],
   "source": [
    "for i in range (1,4):\n",
    "    print('{0: >5}'.format(i*9),end ='')"
   ]
  },
  {
   "cell_type": "code",
   "execution_count": 2,
   "metadata": {
    "collapsed": false
   },
   "outputs": [
    {
     "name": "stdout",
     "output_type": "stream",
     "text": [
      "Enter a number , enter end to close the loop: 3\n",
      "3 ^ 2 = 9\n",
      "Enter a number , enter end to close the loop: 4\n",
      "4 ^ 2 = 16\n",
      "Enter a number , enter end to close the loop: 5\n",
      "5 ^ 2 = 25\n",
      "Enter a number , enter end to close the loop: \n",
      "End of input!!\n"
     ]
    }
   ],
   "source": [
    "def printsquares():\n",
    "    '''\n",
    "    Objective: To Print squares of positive numbers entered by the user . The program terminates if the\n",
    "    user enters a null string\n",
    "    '''\n",
    "    while True:\n",
    "        numstring=input('Enter a number , enter end to close the loop: ')\n",
    "        if numstring=='':\n",
    "            break\n",
    "        number=int(numstring)\n",
    "        print(number, '^ 2 =',number ** 2)\n",
    "    print('End of input!!')\n",
    "printsquares()"
   ]
  },
  {
   "cell_type": "code",
   "execution_count": null,
   "metadata": {
    "collapsed": true
   },
   "outputs": [],
   "source": [
    "def main():\n",
    "    '''\n",
    "    objective : To display the percentage of marks scored by the student\n",
    "    input parameter: none\n",
    "    return valiue: none\n",
    "    '''\n",
    "    totalmarks=0\n",
    "    nsubjects=0\n",
    "    while True:\n",
    "        marks=input('Marks of subject '+ str(nsubjects +1) + ': ')\n",
    "        if marks=='': #End of input\n",
    "            break \n",
    "        marks=float(marks)\n",
    "        if marks<0 and marks>100:\n",
    "            Print('Invalid marks !!')\n",
    "            continue  #marks to be entered again\n",
    "        nsubjects=nsubjects+1\n",
    "         \n",
    "    "
   ]
  }
 ],
 "metadata": {
  "kernelspec": {
   "display_name": "Python 3",
   "language": "python",
   "name": "python3"
  },
  "language_info": {
   "codemirror_mode": {
    "name": "ipython",
    "version": 3
   },
   "file_extension": ".py",
   "mimetype": "text/x-python",
   "name": "python",
   "nbconvert_exporter": "python",
   "pygments_lexer": "ipython3",
   "version": "3.6.0"
  }
 },
 "nbformat": 4,
 "nbformat_minor": 2
}
